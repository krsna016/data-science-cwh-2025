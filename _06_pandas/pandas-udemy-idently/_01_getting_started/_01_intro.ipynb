{
 "cells": [
  {
   "metadata": {},
   "cell_type": "code",
   "outputs": [],
   "execution_count": null,
   "source": "",
   "id": "4cbfc5c273edc288"
  }
 ],
 "metadata": {},
 "nbformat": 4,
 "nbformat_minor": 5
}
