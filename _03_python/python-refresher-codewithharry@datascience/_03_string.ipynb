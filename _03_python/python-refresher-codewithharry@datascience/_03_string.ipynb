{
 "cells": [
  {
   "cell_type": "code",
   "execution_count": 2,
   "id": "6766da97ac5adf9a",
   "metadata": {
    "ExecuteTime": {
     "end_time": "2025-04-10T11:05:07.871528Z",
     "start_time": "2025-04-10T11:05:07.868443Z"
    }
   },
   "outputs": [],
   "source": [
    "name: str = \"Anurag Pareek\""
   ]
  },
  {
   "cell_type": "code",
   "execution_count": 3,
   "id": "f221f9b1a391e56b",
   "metadata": {
    "ExecuteTime": {
     "end_time": "2025-04-10T11:05:08.048142Z",
     "start_time": "2025-04-10T11:05:08.045134Z"
    }
   },
   "outputs": [
    {
     "data": {
      "text/plain": [
       "'Anurag Pareek'"
      ]
     },
     "execution_count": 3,
     "metadata": {},
     "output_type": "execute_result"
    }
   ],
   "source": [
    "name"
   ]
  },
  {
   "cell_type": "code",
   "execution_count": 4,
   "id": "324f2193c2d334d6",
   "metadata": {
    "ExecuteTime": {
     "end_time": "2025-04-10T11:05:08.201610Z",
     "start_time": "2025-04-10T11:05:08.197768Z"
    }
   },
   "outputs": [
    {
     "data": {
      "text/plain": [
       "'ANURAG PAREEK'"
      ]
     },
     "execution_count": 4,
     "metadata": {},
     "output_type": "execute_result"
    }
   ],
   "source": [
    "name.upper()"
   ]
  },
  {
   "cell_type": "code",
   "execution_count": 5,
   "id": "48a13e43273aae49",
   "metadata": {
    "ExecuteTime": {
     "end_time": "2025-04-10T11:05:08.357922Z",
     "start_time": "2025-04-10T11:05:08.354326Z"
    }
   },
   "outputs": [
    {
     "data": {
      "text/plain": [
       "'anurag pareek'"
      ]
     },
     "execution_count": 5,
     "metadata": {},
     "output_type": "execute_result"
    }
   ],
   "source": [
    "name.lower()"
   ]
  },
  {
   "cell_type": "code",
   "execution_count": 6,
   "id": "b43c4a0cf4b7411a",
   "metadata": {
    "ExecuteTime": {
     "end_time": "2025-04-10T11:05:08.514636Z",
     "start_time": "2025-04-10T11:05:08.511448Z"
    }
   },
   "outputs": [
    {
     "data": {
      "text/plain": [
       "'Anurag pareek'"
      ]
     },
     "execution_count": 6,
     "metadata": {},
     "output_type": "execute_result"
    }
   ],
   "source": [
    "name.capitalize()"
   ]
  },
  {
   "cell_type": "code",
   "execution_count": 7,
   "id": "6bae6627b18f85e0",
   "metadata": {
    "ExecuteTime": {
     "end_time": "2025-04-10T11:05:30.089656Z",
     "start_time": "2025-04-10T11:05:30.085877Z"
    }
   },
   "outputs": [
    {
     "data": {
      "text/plain": [
       "True"
      ]
     },
     "execution_count": 7,
     "metadata": {},
     "output_type": "execute_result"
    }
   ],
   "source": [
    "name.endswith(\"eek\")"
   ]
  },
  {
   "cell_type": "code",
   "execution_count": 8,
   "id": "a3b27be293460d32",
   "metadata": {
    "ExecuteTime": {
     "end_time": "2025-04-10T11:06:00.150004Z",
     "start_time": "2025-04-10T11:06:00.144071Z"
    }
   },
   "outputs": [
    {
     "data": {
      "text/plain": [
       "1"
      ]
     },
     "execution_count": 8,
     "metadata": {},
     "output_type": "execute_result"
    }
   ],
   "source": [
    "name.count('A')"
   ]
  },
  {
   "cell_type": "code",
   "execution_count": 9,
   "id": "279ec7209cc92800",
   "metadata": {
    "ExecuteTime": {
     "end_time": "2025-04-10T11:06:09.999866Z",
     "start_time": "2025-04-10T11:06:09.995534Z"
    }
   },
   "outputs": [
    {
     "data": {
      "text/plain": [
       "2"
      ]
     },
     "execution_count": 9,
     "metadata": {},
     "output_type": "execute_result"
    }
   ],
   "source": [
    "name.count('e')"
   ]
  },
  {
   "cell_type": "code",
   "execution_count": 10,
   "id": "98e719f6eae19dab",
   "metadata": {
    "ExecuteTime": {
     "end_time": "2025-04-10T11:07:05.565003Z",
     "start_time": "2025-04-10T11:07:05.555607Z"
    }
   },
   "outputs": [
    {
     "data": {
      "text/plain": [
       "13"
      ]
     },
     "execution_count": 10,
     "metadata": {},
     "output_type": "execute_result"
    }
   ],
   "source": [
    "len(name)"
   ]
  },
  {
   "cell_type": "code",
   "execution_count": 20,
   "id": "86f0b42c608963c5",
   "metadata": {
    "ExecuteTime": {
     "end_time": "2025-04-10T11:08:03.661466Z",
     "start_time": "2025-04-10T11:08:03.657022Z"
    }
   },
   "outputs": [
    {
     "data": {
      "text/plain": [
       "'Anurag _areek'"
      ]
     },
     "execution_count": 20,
     "metadata": {},
     "output_type": "execute_result"
    }
   ],
   "source": [
    "name.replace('P','_')"
   ]
  },
  {
   "cell_type": "code",
   "execution_count": 21,
   "id": "5734bc5cfd10516d",
   "metadata": {
    "ExecuteTime": {
     "end_time": "2025-04-10T11:08:13.767639Z",
     "start_time": "2025-04-10T11:08:13.763752Z"
    }
   },
   "outputs": [
    {
     "data": {
      "text/plain": [
       "'Anura'"
      ]
     },
     "execution_count": 21,
     "metadata": {},
     "output_type": "execute_result"
    }
   ],
   "source": [
    "name[:5]"
   ]
  },
  {
   "cell_type": "code",
   "execution_count": 23,
   "id": "5d674949ab14c355",
   "metadata": {
    "ExecuteTime": {
     "end_time": "2025-04-10T11:09:11.261931Z",
     "start_time": "2025-04-10T11:09:11.258826Z"
    }
   },
   "outputs": [
    {
     "data": {
      "text/plain": [
       "'Pareek'"
      ]
     },
     "execution_count": 23,
     "metadata": {},
     "output_type": "execute_result"
    }
   ],
   "source": [
    "name[-6:]"
   ]
  },
  {
   "cell_type": "code",
   "execution_count": 26,
   "id": "fef9a16f7de90c28",
   "metadata": {
    "ExecuteTime": {
     "end_time": "2025-04-10T11:11:43.505576Z",
     "start_time": "2025-04-10T11:11:43.498194Z"
    }
   },
   "outputs": [
    {
     "data": {
      "text/plain": [
       "'nurag Paree'"
      ]
     },
     "execution_count": 26,
     "metadata": {},
     "output_type": "execute_result"
    }
   ],
   "source": [
    "name[1:-1] # To convert negative index to positive and get same result just add len of string with the -ve ones"
   ]
  },
  {
   "cell_type": "code",
   "execution_count": 27,
   "id": "5745a8112053669c",
   "metadata": {
    "ExecuteTime": {
     "end_time": "2025-04-10T11:11:43.730952Z",
     "start_time": "2025-04-10T11:11:43.727639Z"
    }
   },
   "outputs": [
    {
     "data": {
      "text/plain": [
       "'nurag Paree'"
      ]
     },
     "execution_count": 27,
     "metadata": {},
     "output_type": "execute_result"
    }
   ],
   "source": [
    "name[1:12]"
   ]
  },
  {
   "cell_type": "code",
   "execution_count": 30,
   "id": "60097676b82bef1a",
   "metadata": {
    "ExecuteTime": {
     "end_time": "2025-04-10T11:12:39.501343Z",
     "start_time": "2025-04-10T11:12:39.494959Z"
    }
   },
   "outputs": [
    {
     "data": {
      "text/plain": [
       "'nurag Paree'"
      ]
     },
     "execution_count": 30,
     "metadata": {},
     "output_type": "execute_result"
    }
   ],
   "source": [
    "name[-12:-1]"
   ]
  },
  {
   "cell_type": "code",
   "execution_count": 31,
   "id": "b388b9453486083f",
   "metadata": {
    "ExecuteTime": {
     "end_time": "2025-04-10T11:12:39.821786Z",
     "start_time": "2025-04-10T11:12:39.818068Z"
    }
   },
   "outputs": [
    {
     "data": {
      "text/plain": [
       "'nurag Paree'"
      ]
     },
     "execution_count": 31,
     "metadata": {},
     "output_type": "execute_result"
    }
   ],
   "source": [
    "name[1:12]"
   ]
  }
 ],
 "metadata": {
  "kernelspec": {
   "display_name": "datascience_env",
   "language": "python",
   "name": "python3"
  },
  "language_info": {
   "codemirror_mode": {
    "name": "ipython",
    "version": 3
   },
   "file_extension": ".py",
   "mimetype": "text/x-python",
   "name": "python",
   "nbconvert_exporter": "python",
   "pygments_lexer": "ipython3",
   "version": "3.11.11"
  }
 },
 "nbformat": 5,
 "nbformat_minor": 9
}
