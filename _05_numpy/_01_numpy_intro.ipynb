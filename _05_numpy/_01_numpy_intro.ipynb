{
 "cells": [
  {
   "cell_type": "markdown",
   "id": "a3d7bcae30b87893",
   "metadata": {},
   "source": [
    "# Speed Test:"
   ]
  },
  {
   "cell_type": "code",
   "execution_count": 18,
   "id": "87ce4a6da12aa81d",
   "metadata": {
    "ExecuteTime": {
     "end_time": "2025-04-21T00:16:01.860161Z",
     "start_time": "2025-04-21T00:16:01.852466Z"
    }
   },
   "outputs": [],
   "source": [
    "import numpy as np\n",
    "import time\n",
    "import sys"
   ]
  },
  {
   "cell_type": "code",
   "execution_count": 19,
   "id": "836fd4b1f97ecf11",
   "metadata": {
    "ExecuteTime": {
     "end_time": "2025-04-21T00:13:21.162299Z",
     "start_time": "2025-04-20T18:11:03.657531Z"
    }
   },
   "outputs": [],
   "source": [
    "size: int = 1_000_000_00"
   ]
  },
  {
   "cell_type": "code",
   "execution_count": 20,
   "id": "bdaa9ae4a745fb4f",
   "metadata": {
    "ExecuteTime": {
     "end_time": "2025-04-21T00:13:21.167283Z",
     "start_time": "2025-04-20T18:11:46.297789Z"
    }
   },
   "outputs": [
    {
     "name": "stdout",
     "output_type": "stream",
     "text": [
      "Python list addition time => 14.379233121871948\n"
     ]
    }
   ],
   "source": [
    "# Python List:\n",
    "list_1: list[int] = list(range(size))\n",
    "list_2: list[int] = list(range(size))\n",
    "\n",
    "start: float = time.time()\n",
    "result: list[int] = [x + y for x, y in zip(list_1, list_2)]\n",
    "end: float = time.time()\n",
    "\n",
    "print(f'Python list addition time => {end-start}')"
   ]
  },
  {
   "cell_type": "code",
   "execution_count": 21,
   "id": "dca0601f2fdc9de6",
   "metadata": {
    "ExecuteTime": {
     "end_time": "2025-04-20T18:11:28.859618Z",
     "start_time": "2025-04-20T18:11:05.562588Z"
    }
   },
   "outputs": [
    {
     "name": "stdout",
     "output_type": "stream",
     "text": [
      "Numpy arrays addition time => 6.25150990486145\n"
     ]
    }
   ],
   "source": [
    "# Numpy Arrays:\n",
    "arr_1 = np.array(list(range(size)))\n",
    "arr_2 = np.array(list(range(size)))\n",
    "\n",
    "start: float = time.time()\n",
    "result = arr_1 + arr_2 # Vectorized Operation\n",
    "end: float = time.time()\n",
    "\n",
    "print(f'Numpy arrays addition time => {end-start}')"
   ]
  },
  {
   "cell_type": "markdown",
   "id": "670885d4c97c52c8",
   "metadata": {},
   "source": [
    "# Numpy Arrays:"
   ]
  },
  {
   "cell_type": "code",
   "execution_count": 22,
   "id": "37ba9db8734f6c64",
   "metadata": {
    "ExecuteTime": {
     "end_time": "2025-04-21T00:13:31.218223Z",
     "start_time": "2025-04-21T00:13:31.210595Z"
    }
   },
   "outputs": [
    {
     "data": {
      "text/plain": [
       "array(['1', '2', '3', '4', '5', 'Anurag'], dtype='<U21')"
      ]
     },
     "execution_count": 22,
     "metadata": {},
     "output_type": "execute_result"
    }
   ],
   "source": [
    "np.array([1,2,3,4,5,'Anurag'])"
   ]
  },
  {
   "cell_type": "code",
   "execution_count": 23,
   "id": "84cf98a64d22eeb7",
   "metadata": {
    "ExecuteTime": {
     "end_time": "2025-04-21T00:13:31.903840Z",
     "start_time": "2025-04-21T00:13:31.898636Z"
    }
   },
   "outputs": [
    {
     "data": {
      "text/plain": [
       "array([1, 2, 3, 4, 5])"
      ]
     },
     "execution_count": 23,
     "metadata": {},
     "output_type": "execute_result"
    }
   ],
   "source": [
    "np.array([1,2,3,4,5])"
   ]
  },
  {
   "cell_type": "code",
   "execution_count": 24,
   "id": "52d2cccc241c9799",
   "metadata": {
    "ExecuteTime": {
     "end_time": "2025-04-21T00:13:54.065800Z",
     "start_time": "2025-04-21T00:13:54.063303Z"
    }
   },
   "outputs": [],
   "source": [
    "arr = np.array([[1,2,3],[4,5,6]])"
   ]
  },
  {
   "cell_type": "code",
   "execution_count": 25,
   "id": "584b422edbc1318d",
   "metadata": {
    "ExecuteTime": {
     "end_time": "2025-04-21T00:13:56.713979Z",
     "start_time": "2025-04-21T00:13:56.708817Z"
    }
   },
   "outputs": [
    {
     "data": {
      "text/plain": [
       "array([[1, 2, 3],\n",
       "       [4, 5, 6]])"
      ]
     },
     "execution_count": 25,
     "metadata": {},
     "output_type": "execute_result"
    }
   ],
   "source": [
    "arr"
   ]
  },
  {
   "cell_type": "code",
   "execution_count": 26,
   "id": "a49f52cab4ae5efd",
   "metadata": {
    "ExecuteTime": {
     "end_time": "2025-04-21T00:14:00.959277Z",
     "start_time": "2025-04-21T00:14:00.955777Z"
    }
   },
   "outputs": [
    {
     "data": {
      "text/plain": [
       "numpy.ndarray"
      ]
     },
     "execution_count": 26,
     "metadata": {},
     "output_type": "execute_result"
    }
   ],
   "source": [
    "type(arr)"
   ]
  },
  {
   "cell_type": "code",
   "execution_count": 27,
   "id": "551a6d9184bef929",
   "metadata": {
    "ExecuteTime": {
     "end_time": "2025-04-21T00:14:10.989242Z",
     "start_time": "2025-04-21T00:14:10.984635Z"
    }
   },
   "outputs": [
    {
     "data": {
      "text/plain": [
       "(2, 3)"
      ]
     },
     "execution_count": 27,
     "metadata": {},
     "output_type": "execute_result"
    }
   ],
   "source": [
    "arr.shape"
   ]
  },
  {
   "cell_type": "markdown",
   "id": "b534290e91f8e41",
   "metadata": {},
   "source": [
    "# Memory Efficiency"
   ]
  },
  {
   "cell_type": "code",
   "execution_count": 28,
   "id": "659fdc1dbbade16c",
   "metadata": {
    "ExecuteTime": {
     "end_time": "2025-04-21T00:18:11.835033Z",
     "start_time": "2025-04-21T00:18:11.827978Z"
    }
   },
   "outputs": [
    {
     "name": "stdout",
     "output_type": "stream",
     "text": [
      "Python list size: 8056000 bytes.\n",
      "Numpy array size: 8000 bytes.\n"
     ]
    }
   ],
   "source": [
    "list_data: list[int] = list(range(1000))\n",
    "numpy_data = np.array(list_data)\n",
    "print(f'Python list size: {sys.getsizeof(list_data) * len(list_data)} bytes.')\n",
    "print(f'Numpy array size: {numpy_data.nbytes} bytes.')"
   ]
  },
  {
   "cell_type": "code",
   "execution_count": 13,
   "id": "57c3cfc3e7e2bd63",
   "metadata": {
    "ExecuteTime": {
     "end_time": "2025-04-21T00:20:51.867701Z",
     "start_time": "2025-04-21T00:20:51.855668Z"
    }
   },
   "outputs": [
    {
     "data": {
      "text/plain": [
       "array([[ 1,  4,  9],\n",
       "       [16, 25, 36]])"
      ]
     },
     "execution_count": 13,
     "metadata": {},
     "output_type": "execute_result"
    }
   ],
   "source": [
    "arr ** 2"
   ]
  },
  {
   "cell_type": "markdown",
   "id": "d58fca11f2ec7544",
   "metadata": {},
   "source": [
    "# Speed Test:"
   ]
  },
  {
   "cell_type": "code",
   "execution_count": 14,
   "id": "350a978a85162d71",
   "metadata": {
    "ExecuteTime": {
     "end_time": "2025-04-21T00:24:07.330955Z",
     "start_time": "2025-04-21T00:24:06.056893Z"
    }
   },
   "outputs": [
    {
     "name": "stdout",
     "output_type": "stream",
     "text": [
      "Python list squaring time => 0.39551305770874023\n"
     ]
    }
   ],
   "source": [
    "# Python List:\n",
    "lst: list[int] = list(range(1000_000_0))\n",
    "start: float = time.time()\n",
    "lst_sqr: list[int] = [i ** 2 for i in lst]\n",
    "end: float = time.time()\n",
    "print(f'Python list squaring time => {end-start}')"
   ]
  },
  {
   "cell_type": "code",
   "execution_count": 15,
   "id": "f35fcc3ab084f740",
   "metadata": {
    "ExecuteTime": {
     "end_time": "2025-04-21T00:24:09.131851Z",
     "start_time": "2025-04-21T00:24:08.059791Z"
    }
   },
   "outputs": [
    {
     "name": "stdout",
     "output_type": "stream",
     "text": [
      "Numpy array squaring time => 0.17467498779296875\n"
     ]
    }
   ],
   "source": [
    "# Numpy Arrays:\n",
    "arr = np.array(list(range(1000_000_0)))\n",
    "start: float = time.time()\n",
    "lst_sqr: arr = arr ** 2\n",
    "end: float = time.time()\n",
    "print(f'Numpy array squaring time => {end-start}')"
   ]
  }
 ],
 "metadata": {
  "kernelspec": {
   "display_name": "datascience_env",
   "language": "python",
   "name": "python3"
  },
  "language_info": {
   "codemirror_mode": {
    "name": "ipython",
    "version": 3
   },
   "file_extension": ".py",
   "mimetype": "text/x-python",
   "name": "python",
   "nbconvert_exporter": "python",
   "pygments_lexer": "ipython3",
   "version": "3.11.11"
  }
 },
 "nbformat": 5,
 "nbformat_minor": 9
}
